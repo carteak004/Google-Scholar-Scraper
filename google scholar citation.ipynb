{
 "cells": [
  {
   "cell_type": "code",
   "execution_count": null,
   "metadata": {
    "collapsed": false
   },
   "outputs": [],
   "source": [
    "import urllib.request\n",
    "\n",
    "user_agent = 'Mozilla/5.0 (Windows; U; Windows NT 5.1; en-US; rv:1.9.0.7) Gecko/2009021910 Firefox/3.0.7'\n",
    "\n",
    "url = \"https://scholar.google.co.in/scholar?q=Distributed+program+tracing\"\n",
    "headers={'User-Agent':user_agent,} \n",
    "\n",
    "request=urllib.request.Request(url,None,headers) #The assembled request\n",
    "response = urllib.request.urlopen(request)\n",
    "data = response.read() # The data u need\n",
    "\n",
    "from bs4 import BeautifulSoup\n",
    "soup = BeautifulSoup(data, 'html.parser')\n",
    "print(soup.prettify())"
   ]
  },
  {
   "cell_type": "code",
   "execution_count": null,
   "metadata": {
    "collapsed": false
   },
   "outputs": [],
   "source": [
    "title_attr=soup.find(\"h3\",class_=\"gs_rt\")\n",
    "print(title_attr)\n",
    "\n",
    "title_wrap=title_attr.a\n",
    "title=title_wrap.get_text()\n",
    "print(title)"
   ]
  },
  {
   "cell_type": "code",
   "execution_count": null,
   "metadata": {
    "collapsed": false
   },
   "outputs": [],
   "source": [
    "one=soup.find(\"div\",class_=\"gs_fl\")\n",
    "#print(one)\n",
    "cite_raw=one.find_next(\"div\",class_=\"gs_fl\")\n",
    "print(cite_raw)\n",
    "if not cite_raw:\n",
    "    tag=cite_raw.a\n",
    "    tag.string\n",
    "else:\n",
    "    tag=one.a\n",
    "    tag.string\n",
    "\n",
    "citation=tag.string\n",
    "print(citation[l-2:l])"
   ]
  },
  {
   "cell_type": "code",
   "execution_count": null,
   "metadata": {
    "collapsed": false
   },
   "outputs": [],
   "source": [
    "import gsscraper\n",
    "\n",
    "query = \"What change history tells us about thread synchronization\"\n",
    "#gsscraper.get_result_as_xml(query)\n",
    "res=gsscraper.get_result(query)\n",
    "#print (res[author])"
   ]
  },
  {
   "cell_type": "code",
   "execution_count": null,
   "metadata": {
    "collapsed": false
   },
   "outputs": [],
   "source": [
    "for keys,values in res.items():\n",
    "    print(keys+':'+values+'\\n')"
   ]
  },
  {
   "cell_type": "code",
   "execution_count": null,
   "metadata": {
    "collapsed": false
   },
   "outputs": [],
   "source": [
    "import scholar \n",
    "\n",
    "querier = scholar.ScholarQuerier()\n",
    "settings = scholar.ScholarSettings()\n",
    "querier.apply_settings(settings)\n",
    "\n",
    "query = scholar.SearchScholarQuery()\n",
    "query.set_author(\"Rui Gu\")\n",
    "query.set_words(\"What change history tells us about thread synchronization\")\n",
    "\n",
    "querier.send_query(query)\n",
    "# Print the URL of the first article found\n",
    "print (querier.articles[0]['num_citations'])"
   ]
  },
  {
   "cell_type": "code",
   "execution_count": null,
   "metadata": {
    "collapsed": false,
    "scrolled": true
   },
   "outputs": [],
   "source": [
    "# -*- coding: utf-8 -*-\n",
    "\"\"\"\n",
    "Created on Wed May 25 15:55:49 2016\n",
    "\n",
    "@author: carteak\n",
    "\"\"\"\n",
    "\n",
    "import urllib.request\n",
    "from bs4 import BeautifulSoup\n",
    "import scholar\n",
    "\n",
    "with open('fsekdd.txt', 'r') as f:\n",
    "    data = f.readlines()\n",
    "    for line in data:\n",
    "        words = line.split(\"\\t\")\n",
    "        print(words[1])\n",
    "        paper=words[1].replace(\" \",\"+\")\n",
    "        \n",
    "        querier = scholar.ScholarQuerier()\n",
    "        settings = scholar.ScholarSettings()\n",
    "        querier.apply_settings(settings)\n",
    "\n",
    "        query = scholar.SearchScholarQuery()\n",
    "        #query.set_author(\"Rui Gu\")\n",
    "        query.set_words(paper)\n",
    "\n",
    "        querier.send_query(query)\n",
    "        # Print the URL of the first article found\n",
    "        citation=querier.articles[0]['num_citations']\n",
    "        title=querier.articles[0]['title']\n",
    "        \n",
    "        with open('out.txt','a') as o:\n",
    "            o.write(title+'\\t'+str(citation)+'\\n')"
   ]
  },
  {
   "cell_type": "code",
   "execution_count": null,
   "metadata": {
    "collapsed": true
   },
   "outputs": [],
   "source": []
  }
 ],
 "metadata": {
  "kernelspec": {
   "display_name": "Python 3",
   "language": "python",
   "name": "python3"
  },
  "language_info": {
   "codemirror_mode": {
    "name": "ipython",
    "version": 3
   },
   "file_extension": ".py",
   "mimetype": "text/x-python",
   "name": "python",
   "nbconvert_exporter": "python",
   "pygments_lexer": "ipython3",
   "version": "3.5.1"
  }
 },
 "nbformat": 4,
 "nbformat_minor": 0
}
